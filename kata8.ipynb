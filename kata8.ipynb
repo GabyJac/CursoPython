{
 "cells": [
  {
   "cell_type": "markdown",
   "id": "849b6ceb",
   "metadata": {},
   "source": [
    "# kata 8\n",
    "## Ejercicio 1: Creación de diccionarios de Python\n",
    "### Ejercicio: Crear y modificar un diccionario de Python"
   ]
  },
  {
   "cell_type": "code",
   "execution_count": 3,
   "id": "c5c493b3",
   "metadata": {},
   "outputs": [
    {
     "name": "stdout",
     "output_type": "stream",
     "text": [
      "El planeta es: Marte y tiene 2 lunas\n"
     ]
    }
   ],
   "source": [
    "planeta={\n",
    "    'nombre':'Marte',\n",
    "    'lunas':2\n",
    "}\n",
    "print(f\"El planeta es: {planeta['nombre']} y tiene {planeta['lunas']} lunas\")"
   ]
  },
  {
   "cell_type": "code",
   "execution_count": 5,
   "id": "2e19a290",
   "metadata": {},
   "outputs": [],
   "source": [
    "planeta['circunferencia']={\n",
    "    'polar': 6752,\n",
    "    'ecuatorial':6792\n",
    "}"
   ]
  },
  {
   "cell_type": "code",
   "execution_count": 7,
   "id": "27691ca8",
   "metadata": {},
   "outputs": [
    {
     "name": "stdout",
     "output_type": "stream",
     "text": [
      "El planeta es: Marte y su circunferencia polar es 6752\n"
     ]
    }
   ],
   "source": [
    "print(f\"El planeta es: {planeta['nombre']} y su circunferencia polar es {planeta['circunferencia']['polar']}\")"
   ]
  },
  {
   "cell_type": "markdown",
   "id": "a491fa1c",
   "metadata": {},
   "source": [
    "## Ejercicio 2: Programación dinámica con diccionarios\n",
    "### Ejercicio: Cálculo de valores"
   ]
  },
  {
   "cell_type": "code",
   "execution_count": 8,
   "id": "7d021312",
   "metadata": {},
   "outputs": [],
   "source": [
    "lunasPlaneta = {\n",
    "    'mercurio': 0,\n",
    "    'venus': 0,\n",
    "    'tierra': 1,\n",
    "    'marte': 2,\n",
    "    'jupiter': 79,\n",
    "    'saturno': 82,\n",
    "    'urano': 27,\n",
    "    'neptuno': 14,\n",
    "    'pluto': 5,\n",
    "    'haumea': 2,\n",
    "    'makemake': 1,\n",
    "    'eris': 1\n",
    "}"
   ]
  },
  {
   "cell_type": "code",
   "execution_count": 16,
   "id": "37f9ba2c",
   "metadata": {},
   "outputs": [
    {
     "name": "stdout",
     "output_type": "stream",
     "text": [
      "El numero total de lunas es: 214\n",
      "El promedio de lunas por planeta es: 17.833333333333332\n"
     ]
    }
   ],
   "source": [
    "lunas=0\n",
    "for value in lunasPlaneta.values():\n",
    "    lunas=lunas+value\n",
    "print(f\"El numero total de lunas es: {lunas}\")    \n",
    "#for key in lunasPlaneta.keys():\n",
    "promedio=lunas/(len(lunasPlaneta.values()))\n",
    "print(f\"El promedio de lunas por planeta es: {promedio}\") "
   ]
  },
  {
   "cell_type": "code",
   "execution_count": null,
   "id": "13e8e44f",
   "metadata": {},
   "outputs": [],
   "source": []
  }
 ],
 "metadata": {
  "kernelspec": {
   "display_name": "Python 3 (ipykernel)",
   "language": "python",
   "name": "python3"
  },
  "language_info": {
   "codemirror_mode": {
    "name": "ipython",
    "version": 3
   },
   "file_extension": ".py",
   "mimetype": "text/x-python",
   "name": "python",
   "nbconvert_exporter": "python",
   "pygments_lexer": "ipython3",
   "version": "3.8.12"
  }
 },
 "nbformat": 4,
 "nbformat_minor": 5
}
