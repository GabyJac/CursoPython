{
 "cells": [
  {
   "attachments": {},
   "cell_type": "markdown",
   "id": "c9857813",
   "metadata": {},
   "source": [
    "# Kata 4\n",
    "## Ejercicio 1: Transformar cadenas"
   ]
  },
  {
   "cell_type": "code",
   "execution_count": 1,
   "id": "8d0af0d5",
   "metadata": {},
   "outputs": [],
   "source": [
    "textPrueba = \"\"\"Interesting facts about the Moon. The Moon is Earth's only satellite. There are several interesting facts about the Moon and how it affects life here on Earth. \n",
    "On average, the Moon moves 4cm away from the Earth every year. This yearly drift is not significant enough to cause immediate effects on Earth. The highest daylight temperature of the Moon is 127 C.\"\"\""
   ]
  },
  {
   "cell_type": "markdown",
   "id": "27e796ac",
   "metadata": {},
   "source": [
    "Divide el texto en oraciones"
   ]
  },
  {
   "cell_type": "code",
   "execution_count": 2,
   "id": "d55dd265",
   "metadata": {},
   "outputs": [
    {
     "data": {
      "text/plain": [
       "['Interesting facts about the Moon',\n",
       " \"The Moon is Earth's only satellite\",\n",
       " 'There are several interesting facts about the Moon and how it affects life here on Earth',\n",
       " '\\nOn average, the Moon moves 4cm away from the Earth every year',\n",
       " 'This yearly drift is not significant enough to cause immediate effects on Earth',\n",
       " 'The highest daylight temperature of the Moon is 127 C.']"
      ]
     },
     "execution_count": 2,
     "metadata": {},
     "output_type": "execute_result"
    }
   ],
   "source": [
    "textDoraciones=textPrueba.split('. ')\n",
    "textDoraciones"
   ]
  },
  {
   "cell_type": "markdown",
   "id": "5a2a2261",
   "metadata": {},
   "source": [
    "Define algunas palabras clave para búsqueda que te ayudarán a determinar si una oración contiene un hecho."
   ]
  },
  {
   "cell_type": "code",
   "execution_count": 10,
   "id": "1636948d",
   "metadata": {},
   "outputs": [
    {
     "name": "stdout",
     "output_type": "stream",
     "text": [
      "Oracion con Coincidencia:  \n",
      "On average, the Moon moves 4cm away from the Earth every year\n",
      "Oracion con Coincidencia:  The highest daylight temperature of the Moon is 127 C.\n"
     ]
    }
   ],
   "source": [
    "palabrasClave=['average','temperature','distance']\n",
    "for sentence in textDoraciones:\n",
    "    for palabraClave in palabrasClave:\n",
    "        if palabraClave in sentence:\n",
    "            print (\"Oracion con Coincidencia: \",sentence)\n",
    "            break"
   ]
  },
  {
   "cell_type": "code",
   "execution_count": 9,
   "id": "ab822768",
   "metadata": {},
   "outputs": [
    {
     "name": "stdout",
     "output_type": "stream",
     "text": [
      "Oracion con Reemplazo:  \n",
      "On average, the Moon moves 4cm away from the Earth every year\n",
      "Oracion con Reemplazo:  The highest daylight temperature of the Moon is 127 Celsius.\n"
     ]
    }
   ],
   "source": [
    "for sentence in textDoraciones:\n",
    "    for palabraClave in palabrasClave:\n",
    "        if palabraClave in sentence:\n",
    "            print (\"Oracion con Reemplazo: \",sentence.replace('C','Celsius'))\n",
    "            break\n",
    "#print(f'{textPrueba.replace('C','Celsius')}')\n"
   ]
  },
  {
   "cell_type": "markdown",
   "id": "8fecf320",
   "metadata": {},
   "source": [
    "## Ejercicio 2: Formateando Cadenas"
   ]
  },
  {
   "cell_type": "code",
   "execution_count": 41,
   "id": "2b09b0bb",
   "metadata": {},
   "outputs": [
    {
     "data": {
      "text/plain": [
       "'Gravedad: asi en la tierra como en Ganímedes'"
      ]
     },
     "execution_count": 41,
     "metadata": {},
     "output_type": "execute_result"
    }
   ],
   "source": [
    "name=\"Ganímedes\"\n",
    "gravity=0.00143\n",
    "planet=\"Marte\"\n",
    "titulo=f\"Gravedad: asi en la tierra como en {name}\"\n",
    "titulo"
   ]
  },
  {
   "cell_type": "code",
   "execution_count": 35,
   "id": "e0320670",
   "metadata": {},
   "outputs": [
    {
     "data": {
      "text/plain": [
       "\"-*--*--*--*--*--*--*--*--*--*--*--*--*--*--*--*--*--*--*--*--*--*--*--*--*--*--*--*--*--*--*--*--*--*--*--*--*--*--*--*--*-\\n   Planet's name: Marte\\nGravity in Ganímedes: 1.4300000000000002 m/s2\\n\""
      ]
     },
     "execution_count": 35,
     "metadata": {},
     "output_type": "execute_result"
    }
   ],
   "source": [
    "facts=f\"\"\"{'-*-'*41}\n",
    "   Planet's name: {planet}\n",
    "Gravity in {name}: {gravity * 1000} m/s2\n",
    "\"\"\"\n",
    "facts"
   ]
  },
  {
   "cell_type": "code",
   "execution_count": 38,
   "id": "1fb691e8",
   "metadata": {},
   "outputs": [
    {
     "data": {
      "text/plain": [
       "\"-*--*--*--*--*--*--*--*--*--*--*--*--*--*--*--*--*--*--*--*--*--*--*--*--*--*--*--*--*--*--*--*--*--*--*--*--*--*--*--*--*-\\n   Planet's name: Marte\\nGravity in Ganímedes: 1.4300000000000002 m/s2\\n\""
      ]
     },
     "execution_count": 38,
     "metadata": {},
     "output_type": "execute_result"
    }
   ],
   "source": [
    "template=f\"\"\"{titulo.title()}\n",
    "{facts}\n",
    "\"\"\"\n",
    "facts"
   ]
  },
  {
   "cell_type": "code",
   "execution_count": 28,
   "id": "83fbea77",
   "metadata": {},
   "outputs": [
    {
     "data": {
      "text/plain": [
       "\"Gravedad: Asi En La Tierra Como En Ganímedes\\n-*--*--*--*--*--*--*--*--*--*--*--*--*--*--*--*--*--*--*--*--*--*--*--*--*--*--*--*--*--*--*--*--*--*--*--*--*--*--*--*--*-\\n   Planet's name: Marte\\nGravity in Ganímedes: 1.4300000000000002 m/s2\\n\\n\""
      ]
     },
     "execution_count": 28,
     "metadata": {},
     "output_type": "execute_result"
    }
   ],
   "source": [
    "template"
   ]
  },
  {
   "cell_type": "code",
   "execution_count": 37,
   "id": "10dfaad1",
   "metadata": {},
   "outputs": [],
   "source": [
    "name = \"Moon\"\n",
    "gravity = 0.00162 # in kms\n",
    "planet = \"Earth\""
   ]
  },
  {
   "cell_type": "code",
   "execution_count": 42,
   "id": "312d2a4b",
   "metadata": {},
   "outputs": [
    {
     "name": "stdout",
     "output_type": "stream",
     "text": [
      "\n",
      "Datos de Gravedad sobre: Ganímedes\n",
      "-------------------------------------------------------------------------------\n",
      "Nombre del planeta: Marte\n",
      "Gravedad en Ganímedes: 1.4300000000000002 m/s2\n",
      "\n"
     ]
    }
   ],
   "source": [
    "new_template = \"\"\"\n",
    "Datos de Gravedad sobre: {name}\n",
    "-------------------------------------------------------------------------------\n",
    "Nombre del planeta: {planet}\n",
    "Gravedad en {name}: {gravity} m/s2\n",
    "\"\"\"\n",
    "print(new_template.format(name=name, planet=planet, gravity=gravity*1000))"
   ]
  },
  {
   "cell_type": "code",
   "execution_count": null,
   "id": "c9ccc04e",
   "metadata": {},
   "outputs": [],
   "source": []
  }
 ],
 "metadata": {
  "kernelspec": {
   "display_name": "Python 3 (ipykernel)",
   "language": "python",
   "name": "python3"
  },
  "language_info": {
   "codemirror_mode": {
    "name": "ipython",
    "version": 3
   },
   "file_extension": ".py",
   "mimetype": "text/x-python",
   "name": "python",
   "nbconvert_exporter": "python",
   "pygments_lexer": "ipython3",
   "version": "3.8.12"
  }
 },
 "nbformat": 4,
 "nbformat_minor": 5
}
