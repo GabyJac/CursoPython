{
 "cells": [
  {
   "cell_type": "markdown",
   "id": "d3396a93",
   "metadata": {},
   "source": [
    "# Kata 5\n",
    "## Ejercicio1 - Utilizar operadores aritméticos\n",
    "### Operadores aritméticos en Python"
   ]
  },
  {
   "cell_type": "code",
   "execution_count": 13,
   "id": "166708c5",
   "metadata": {},
   "outputs": [
    {
     "name": "stdout",
     "output_type": "stream",
     "text": [
      "Distancia entre la tierra y jupiter 628949330 kilometros\n",
      "Distancia entre la tierra y jupiter 390577533.93 millas\n"
     ]
    }
   ],
   "source": [
    "distTierra=149597870\n",
    "distJupiter=778547200\n",
    "print(f\"Distancia entre la tierra y jupiter {abs(distTierra-distJupiter)} kilometros\")\n",
    "print(f\"Distancia entre la tierra y jupiter {(abs(distTierra-distJupiter))*0.621} millas\")"
   ]
  },
  {
   "cell_type": "markdown",
   "id": "f01e3c31",
   "metadata": {},
   "source": [
    "## Ejercicio 2: convierte cadenas en números y usa valores absolutos\n",
    "### Crear una aplicación para trabajar con números y entrada de usuario"
   ]
  },
  {
   "cell_type": "code",
   "execution_count": 14,
   "id": "8d70b0bb",
   "metadata": {},
   "outputs": [
    {
     "name": "stdout",
     "output_type": "stream",
     "text": [
      "1.Ingresa la distancia al sol 8\n",
      "2.Ingresa la distancia al sol 5\n",
      "La distancia entre planetas es: 1.863 millas\n"
     ]
    }
   ],
   "source": [
    "distSol1=input(\"1.Ingresa la distancia al sol \")\n",
    "distSol2=input(\"2.Ingresa la distancia al sol \")\n",
    "distSol1=int(distSol1)\n",
    "distSol2=int(distSol2)\n",
    "distPlan=abs(distSol1-distSol2)\n",
    "distPlan\n",
    "print(f\"La distancia entre planetas es: {distPlan*0.621} millas\")\n",
    "#distSol1*2"
   ]
  },
  {
   "cell_type": "code",
   "execution_count": null,
   "id": "249b8990",
   "metadata": {},
   "outputs": [],
   "source": []
  }
 ],
 "metadata": {
  "kernelspec": {
   "display_name": "Python 3 (ipykernel)",
   "language": "python",
   "name": "python3"
  },
  "language_info": {
   "codemirror_mode": {
    "name": "ipython",
    "version": 3
   },
   "file_extension": ".py",
   "mimetype": "text/x-python",
   "name": "python",
   "nbconvert_exporter": "python",
   "pygments_lexer": "ipython3",
   "version": "3.8.12"
  }
 },
 "nbformat": 4,
 "nbformat_minor": 5
}
