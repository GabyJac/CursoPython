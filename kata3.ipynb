{
 "cells": [
  {
   "cell_type": "markdown",
   "id": "96063640",
   "metadata": {},
   "source": [
    "# kata 3\n",
    "Para este ejercicio, escribirás una lógica condicional que imprima una advertencia si un asteroide se acerca a la Tierra demasiado rápido. La velocidad del asteroide varía dependiendo de lo cerca que esté del sol, y cualquier velocidad superior a 25 kilómetros por segundo (km/s) merece una advertencia.\n",
    "#### Un asteroide se acerca, y viaja a una velocidad de 49 km/s."
   ]
  },
  {
   "cell_type": "code",
   "execution_count": 4,
   "id": "86ea1375",
   "metadata": {},
   "outputs": [
    {
     "name": "stdout",
     "output_type": "stream",
     "text": [
      "No hay Problema, sigue con tu vida\n"
     ]
    }
   ],
   "source": [
    "velAsteroide=49\n",
    "if velAsteroide >= 25:\n",
    "    print(\"El asteroide se acerca....CUIDADO!!!\")\n",
    "else:\n",
    "    print(\"No hay Problema, sigue con tu vida\")"
   ]
  },
  {
   "cell_type": "markdown",
   "id": "c5830619",
   "metadata": {},
   "source": [
    "## Ejercicio 2\n",
    "Si un asteroide entra en la atmósfera de la Tierra a una velocidad mayor o igual a 20 km/s, a veces produce un rayo de luz que se puede ver desde la Tierra. Escribe la lógica condicional que usa declaraciones if, else, y elif para alertar a las personas de todo el mundo que deben buscar un asteroide en el cielo. ¡Hay uno que se dirige a la tierra ahora a una velocidad de 19 km/s!"
   ]
  },
  {
   "cell_type": "code",
   "execution_count": 9,
   "id": "cb9f2086",
   "metadata": {},
   "outputs": [
    {
     "name": "stdout",
     "output_type": "stream",
     "text": [
      "Busca el rayo de luz, se dirige a una velocidad de 100km/s\n"
     ]
    }
   ],
   "source": [
    "asteroide=19\n",
    "if asteroide >= 20:\n",
    "    print(\"Busca el rayo de luz, se dirige a una velocidad de \"+str(asteroide)+\"km/s\" )\n",
    "else:\n",
    "    print(\"No hay ningun Asteroide cerca\")\n",
    "    "
   ]
  },
  {
   "cell_type": "markdown",
   "id": "67a1066b",
   "metadata": {},
   "source": [
    "## Ejercicio 3 Uso de operadores \"and\" y \"or\"\n",
    "*Los asteroides de menos de 25 metros en su dimensión más grande probablemente se quemarán a medida que entren en la atmósfera de la Tierra.\n",
    "\n",
    "Si una pieza de un asteroide que es más grande que 25 metros pero más pequeña que 1000 metros golpeara la Tierra, causaría mucho daño.\n",
    "También discutimos en el ejercicio anterior que:\n",
    "\n",
    "La velocidad del asteroide varía en función de lo cerca que esté del sol, y cualquier velocidad superior a 25 kilómetros por segundo (km/s) merece una advertencia.\n",
    "Si un asteroide entra en la atmósfera de la Tierra a una velocidad mayor o igual a 20 km/s, a veces produce un rayo de luz que se puede ver desde la Tierra.\n",
    "Usando toda esta información, escribe un programa que emita la advertencia o información correcta a la gente de la Tierra, según la velocidad y el tamaño de un asteroide. Utiliza instrucciones if, else, y elif, así como los operadores and y or."
   ]
  },
  {
   "cell_type": "code",
   "execution_count": 2,
   "id": "d64ae158",
   "metadata": {},
   "outputs": [
    {
     "name": "stdout",
     "output_type": "stream",
     "text": [
      "Busca el rayo de luz, se dirige a una velocidad de 25km/s\n"
     ]
    }
   ],
   "source": [
    "velocidadAsteroide=25\n",
    "tamAsteroide=12\n",
    "if tamAsteroide>25 and velocidadAsteroide>25:\n",
    "    print(\"Cuidado el asteroide puede causar mucho daño a la tierra\")\n",
    "elif velocidadAsteroide>=20:\n",
    "    print(\"Busca el rayo de luz, se dirige a una velocidad de \"+str(velocidadAsteroide)+\"km/s\" )\n",
    "elif tamAsteroide<25:\n",
    "    print(\"Es probable que el asteroide se queme, don't worry\")\n",
    "else:\n",
    "    print(\"Don't worry\")\n",
    "    "
   ]
  },
  {
   "cell_type": "code",
   "execution_count": null,
   "id": "d0f96cc2",
   "metadata": {},
   "outputs": [],
   "source": []
  },
  {
   "cell_type": "code",
   "execution_count": null,
   "id": "e2eb1696",
   "metadata": {},
   "outputs": [],
   "source": []
  }
 ],
 "metadata": {
  "kernelspec": {
   "display_name": "Python 3 (ipykernel)",
   "language": "python",
   "name": "python3"
  },
  "language_info": {
   "codemirror_mode": {
    "name": "ipython",
    "version": 3
   },
   "file_extension": ".py",
   "mimetype": "text/x-python",
   "name": "python",
   "nbconvert_exporter": "python",
   "pygments_lexer": "ipython3",
   "version": "3.8.12"
  }
 },
 "nbformat": 4,
 "nbformat_minor": 5
}
