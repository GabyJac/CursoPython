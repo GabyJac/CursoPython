{
 "cells": [
  {
   "cell_type": "markdown",
   "id": "45993f96",
   "metadata": {},
   "source": [
    "# Kata 7\n",
    "## Ejercicio 1: Creación de un bucle \"while\"\n",
    "### Ejercicio 1: Uso de ciclos while en Python"
   ]
  },
  {
   "cell_type": "code",
   "execution_count": 1,
   "id": "b29b8a4c",
   "metadata": {},
   "outputs": [
    {
     "name": "stdout",
     "output_type": "stream",
     "text": [
      "Ingresa el Planeta: venus\n",
      "Ingresa el Planeta: tierra\n",
      "Ingresa el Planeta: marte\n",
      "Ingresa el Planeta: saturno\n",
      "Ingresa el Planeta: done\n"
     ]
    }
   ],
   "source": [
    "nuevoPlaneta=input(\"Ingresa el Planeta: \")\n",
    "planetas=[]\n",
    "while nuevoPlaneta.lower() != \"done\":\n",
    "    if nuevoPlaneta:\n",
    "        planetas.append(nuevoPlaneta)\n",
    "    nuevoPlaneta=input(\"Ingresa el Planeta: \")"
   ]
  },
  {
   "cell_type": "markdown",
   "id": "6244e9a5",
   "metadata": {},
   "source": [
    "## Ejercicio 2: Creación de un ciclo \"for\"\n",
    "### Ejercicio: - Ciclo para una lista"
   ]
  },
  {
   "cell_type": "code",
   "execution_count": 3,
   "id": "df0c79d0",
   "metadata": {},
   "outputs": [
    {
     "name": "stdout",
     "output_type": "stream",
     "text": [
      "venus\n",
      "tierra\n",
      "marte\n",
      "saturno\n"
     ]
    }
   ],
   "source": [
    "for planeta in planetas:\n",
    "    print (planeta)"
   ]
  },
  {
   "cell_type": "code",
   "execution_count": null,
   "id": "5f74702b",
   "metadata": {},
   "outputs": [],
   "source": []
  }
 ],
 "metadata": {
  "kernelspec": {
   "display_name": "Python 3 (ipykernel)",
   "language": "python",
   "name": "python3"
  },
  "language_info": {
   "codemirror_mode": {
    "name": "ipython",
    "version": 3
   },
   "file_extension": ".py",
   "mimetype": "text/x-python",
   "name": "python",
   "nbconvert_exporter": "python",
   "pygments_lexer": "ipython3",
   "version": "3.8.12"
  }
 },
 "nbformat": 4,
 "nbformat_minor": 5
}
