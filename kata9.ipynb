{
 "cells": [
  {
   "cell_type": "markdown",
   "id": "3ff8f2f2",
   "metadata": {},
   "source": [
    "# Kata 9\n",
    "## Ejercicio: Uso de funciones en Python\n",
    "### Ejercicio 1: Trabajar con argumentos en funciones"
   ]
  },
  {
   "cell_type": "code",
   "execution_count": 5,
   "id": "c7eeafc3",
   "metadata": {},
   "outputs": [],
   "source": [
    "def gasolina(tan1,tan2,tan3):\n",
    "    prom=(tan1+tan2+tan3)/3\n",
    "    print(\"Contenido tanque 1: \"+str(tan1)+\" Contenido tanque 2: \"+str(tan2)+\" Contenido tanque 3: \"+str(tan3))\n",
    "    return prom"
   ]
  },
  {
   "cell_type": "code",
   "execution_count": 7,
   "id": "edd4108a",
   "metadata": {},
   "outputs": [
    {
     "name": "stdout",
     "output_type": "stream",
     "text": [
      "1 2 2 3 3 4\n",
      "el promedio de gasolina en los tanque es: 3.0\n"
     ]
    }
   ],
   "source": [
    "print(f\"el promedio de gasolina en los tanque es: {gasolina(2,3,4)}\")"
   ]
  },
  {
   "cell_type": "code",
   "execution_count": 10,
   "id": "9564dda5",
   "metadata": {},
   "outputs": [
    {
     "data": {
      "text/plain": [
       "3.0"
      ]
     },
     "execution_count": 10,
     "metadata": {},
     "output_type": "execute_result"
    }
   ],
   "source": [
    "def promedio(valores):\n",
    "    return (sum(valores)/len(valores))\n",
    "promedio([2,3,4])"
   ]
  },
  {
   "cell_type": "code",
   "execution_count": 12,
   "id": "d825f095",
   "metadata": {},
   "outputs": [
    {
     "name": "stdout",
     "output_type": "stream",
     "text": [
      "Reporte de gasolina: \n",
      "    Promedio de gasolina: 3.0%\n",
      "    tanque 1: 2 %\n",
      "    tanque 2: 3 %\n",
      "    tanque 3: 4 %\n"
     ]
    }
   ],
   "source": [
    "def reporteFinal(tan1,tan2,tan3):\n",
    "    return f\"\"\"Reporte de gasolina: \n",
    "    Promedio de gasolina: {promedio([tan1,tan2,tan3])}%\n",
    "    tanque 1: {tan1} %\n",
    "    tanque 2: {tan2} %\n",
    "    tanque 3: {tan3} %\"\"\"\n",
    "print(reporteFinal(2,3,4))"
   ]
  },
  {
   "cell_type": "markdown",
   "id": "2ad6bb84",
   "metadata": {},
   "source": [
    "## Ejercicio 2: Trabajo con argumentos de palabra clave\n",
    "### Ejercicio : Trabajar con argumentos de palabras clave en funciones"
   ]
  },
  {
   "cell_type": "code",
   "execution_count": 14,
   "id": "7aad366d",
   "metadata": {},
   "outputs": [
    {
     "name": "stdout",
     "output_type": "stream",
     "text": [
      " \n",
      "    Destino de la mision: saturno\n",
      "    tiempo de viaje total: 65 minutos\n",
      "    Gasolina Total 60 galones\n",
      "    \n"
     ]
    }
   ],
   "source": [
    "def informe(hPre,tiempo,destino,tanE,tanI):\n",
    "    return f\"\"\" \n",
    "    Destino de la mision: {destino}\n",
    "    Tiempo de viaje total: {hPre+tiempo} minutos\n",
    "    Gasolina total: {tanE+tanI} galones\n",
    "    \"\"\"\n",
    "print (informe(14,51,\"saturno\",20,40))"
   ]
  },
  {
   "cell_type": "code",
   "execution_count": 19,
   "id": "0d1d8445",
   "metadata": {},
   "outputs": [
    {
     "name": "stdout",
     "output_type": "stream",
     "text": [
      " \n",
      "Destino de la mision: pluton\n",
      "Tiempo de viaje total: 9 minutos\n",
      "Gasolina total: 9 galones\n",
      "    Tanque principal ---> 6 galones \n",
      "Tanque externo ---> 3 galones \n",
      "\n"
     ]
    }
   ],
   "source": [
    "def informe2(destino,*tiempo,**gasolina):\n",
    "    reporte= f\"\"\" \n",
    "Destino de la mision: {destino}\n",
    "Tiempo de viaje total: {sum(tiempo)} minutos\n",
    "Gasolina total: {sum(gasolina.values())} galones\n",
    "    \"\"\"\n",
    "    for tipoTanque, tama in gasolina.items():\n",
    "        reporte += f\"Tanque {tipoTanque} ---> {tama} galones \\n\"\n",
    "    return reporte\n",
    "print(informe2(\"pluton\",2,3,4, principal=6, externo=3))"
   ]
  },
  {
   "cell_type": "code",
   "execution_count": null,
   "id": "b282d814",
   "metadata": {},
   "outputs": [],
   "source": []
  }
 ],
 "metadata": {
  "kernelspec": {
   "display_name": "Python 3 (ipykernel)",
   "language": "python",
   "name": "python3"
  },
  "language_info": {
   "codemirror_mode": {
    "name": "ipython",
    "version": 3
   },
   "file_extension": ".py",
   "mimetype": "text/x-python",
   "name": "python",
   "nbconvert_exporter": "python",
   "pygments_lexer": "ipython3",
   "version": "3.8.12"
  }
 },
 "nbformat": 4,
 "nbformat_minor": 5
}
